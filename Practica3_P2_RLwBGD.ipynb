{
 "cells": [
  {
   "cell_type": "code",
   "execution_count": 7,
   "metadata": {},
   "outputs": [
    {
     "name": "stderr",
     "output_type": "stream",
     "text": [
      "C:\\Users\\acer\\AppData\\Local\\Temp\\ipykernel_9100\\2718804192.py:2: DeprecationWarning: \n",
      "Pyarrow will become a required dependency of pandas in the next major release of pandas (pandas 3.0),\n",
      "(to allow more performant data types, such as the Arrow string type, and better interoperability with other libraries)\n",
      "but was not found to be installed on your system.\n",
      "If this would cause problems for you,\n",
      "please provide us feedback at https://github.com/pandas-dev/pandas/issues/54466\n",
      "        \n",
      "  import pandas as pd\n"
     ]
    }
   ],
   "source": [
    "#Importar liberias\n",
    "import pandas as pd\n",
    "import numpy as np\n",
    "from sklearn.model_selection import train_test_split\n",
    "import matplotlib.pyplot as plt"
   ]
  },
  {
   "cell_type": "code",
   "execution_count": 8,
   "metadata": {},
   "outputs": [
    {
     "name": "stdout",
     "output_type": "stream",
     "text": [
      "    x1   x2    x3    x4    x5     y\n",
      "0  1.0  0.4 -12.0  12.0  10.2  11.6\n",
      "1  1.0  0.6 -15.0  16.0  11.9  14.5\n",
      "2  1.0  0.8 -18.0  20.0  13.6  17.4\n",
      "3  1.0  1.0 -21.0  24.0  15.3  20.3\n",
      "4  1.0  1.2 -24.0  28.0  17.0  23.2\n",
      "5  1.0  1.4 -27.0  32.0  18.7  26.1\n",
      "6  1.0  1.6 -30.0  36.0  20.4  29.0\n",
      "7  1.0  1.8 -33.0  40.0  22.1  31.9\n",
      "8  1.0  2.0 -36.0  44.0  23.8  34.8\n",
      "9  1.0  2.2 -39.0  48.0  25.5  37.7\n"
     ]
    }
   ],
   "source": [
    "#Visualizar dataset\n",
    "df = pd.read_csv('Dataset_multivariable.csv',sep=',')\n",
    "print(df)"
   ]
  },
  {
   "cell_type": "code",
   "execution_count": 9,
   "metadata": {},
   "outputs": [
    {
     "name": "stdout",
     "output_type": "stream",
     "text": [
      "Train_data:\n",
      "     x1   x2    x3    x4    x5     y\n",
      "9  1.0  2.2 -39.0  48.0  25.5  37.7\n",
      "1  1.0  0.6 -15.0  16.0  11.9  14.5\n",
      "6  1.0  1.6 -30.0  36.0  20.4  29.0\n",
      "7  1.0  1.8 -33.0  40.0  22.1  31.9\n",
      "3  1.0  1.0 -21.0  24.0  15.3  20.3\n",
      "0  1.0  0.4 -12.0  12.0  10.2  11.6\n",
      "5  1.0  1.4 -27.0  32.0  18.7  26.1\n",
      "Test_data:\n",
      "     x1   x2    x3    x4    x5     y\n",
      "2  1.0  0.8 -18.0  20.0  13.6  17.4\n",
      "8  1.0  2.0 -36.0  44.0  23.8  34.8\n",
      "4  1.0  1.2 -24.0  28.0  17.0  23.2\n"
     ]
    }
   ],
   "source": [
    "#División de los datos en entrenamiento y prueba 70% y 30% respectivamente\n",
    "train_data, test_data = train_test_split(df, test_size=0.3, shuffle=True, random_state=0)\n",
    "print('Train_data:\\n',train_data)\n",
    "print('Test_data:\\n',test_data)"
   ]
  },
  {
   "cell_type": "code",
   "execution_count": 83,
   "metadata": {},
   "outputs": [],
   "source": [
    "def bgd_multi(x_data, y_data, w, a, iter, x_test, y_test):\n",
    "    weig = w\n",
    "    n = len(w)\n",
    "    m = len(y_data)\n",
    "    suma = 0\n",
    "    error = []\n",
    "    errores = 0\n",
    "    for j in range(iter):\n",
    "        errores = 0\n",
    "        suma = 0\n",
    "        for k in range(m):\n",
    "            suma += (weig*x_data[k] - y_data[k]) * x_data[k]\n",
    "        weig= weig - a * 2 * suma\n",
    "        print(f\"Iteración {j}: w = {weig[:n]}\")\n",
    "        for i in range(len(x_test)):\n",
    "            predic = y_pred(x_test[i], weig)\n",
    "            errores += error_estimacion(predic, y_test[i])\n",
    "            print(f\"y_pred {i}: {predic}\")\n",
    "        print(f\"Error de estimación {j}: {errores}\")\n",
    "        error.append(errores)\n",
    "    return weig, error\n",
    "\n",
    "def y_pred(x_test, w):\n",
    "    y = np.dot(w, x_test)\n",
    "    return y\n",
    "\n",
    "def error_estimacion(y_pred, y_test):\n",
    "    return abs(y_pred - y_test)"
   ]
  },
  {
   "cell_type": "code",
   "execution_count": 85,
   "metadata": {},
   "outputs": [
    {
     "name": "stdout",
     "output_type": "stream",
     "text": [
      "y_test\n",
      "[17.4 34.8 23.2]\n",
      "Iteración 0: w = [ 0.0020532   0.00308328 -0.0585684   0.0698784   0.04016964]\n",
      "y_pred 0: 3.002626128\n",
      "y_pred 1: 6.147369192\n",
      "y_pred 2: 4.050873816\n",
      "Error de estimación 0: 62.199130864\n",
      "Iteración 1: w = [ 0.00410623  0.00616604 -0.11358826  0.13371931  0.07918999]\n",
      "y_pred 0: 5.8049976378882855\n",
      "y_pred 1: 11.873986734371123\n",
      "y_pred 2: 7.827994003382565\n",
      "Error de estimación 1: 49.89302162435803\n",
      "Iteración 2: w = [ 0.00615908  0.00924827 -0.16527457  0.19204436  0.11709392]\n",
      "y_pred 0: 8.421864503496344\n",
      "y_pred 1: 17.21132733235039\n",
      "y_pred 2: 11.351685446447693\n",
      "Error de estimación 2: 38.41512271770557\n",
      "Iteración 3: w = [ 0.00821177  0.01232999 -0.21382932  0.24533013  0.15391339]\n",
      "y_pred 0: 10.86682803624258\n",
      "y_pred 1: 22.188391286469077\n",
      "y_pred 2: 14.640682452984745\n",
      "Error de estimación 3: 27.704098224303593\n"
     ]
    },
    {
     "data": {
      "image/png": "[encoded data removed]",
      "text/plain": [
       "<Figure size 640x480 with 1 Axes>"
      ]
     },
     "metadata": {},
     "output_type": "display_data"
    }
   ],
   "source": [
    "# Obtener características (X) y etiquetas (y)\n",
    "x_train = train_data.iloc[:, :-1].values\n",
    "y_train = train_data.iloc[:, -1].values\n",
    "x_test = test_data.iloc[:, :-1].values\n",
    "y_test = test_data.iloc[:, -1].values\n",
    "\n",
    "iteraciones = 4\n",
    "w = [0,0,0,0,0]\n",
    "a = 0.000006\n",
    "e=[]\n",
    "print(\"y_test\")\n",
    "print(y_test)\n",
    "\n",
    "we, e = bgd_multi(x_train, y_train, w, a, iteraciones, x_test, y_test)\n",
    "\n",
    "colores = ['red', 'green', 'black', 'brown', 'magenta']\n",
    "plt.scatter(range(1, len(e) + 1), e, color=colores[:len(e)])\n",
    "plt.title('Error de estimación')\n",
    "plt.xlabel('Iteración')\n",
    "plt.ylabel('Error')\n",
    "\n",
    "plt.tight_layout()\n",
    "plt.show()"
   ]
  }
 ],
 "metadata": {
  "kernelspec": {
   "display_name": "Python 3",
   "language": "python",
   "name": "python3"
  },
  "language_info": {
   "codemirror_mode": {
    "name": "ipython",
    "version": 3
   },
   "file_extension": ".py",
   "mimetype": "text/x-python",
   "name": "python",
   "nbconvert_exporter": "python",
   "pygments_lexer": "ipython3",
   "version": "3.12.1"
  }
 },
 "nbformat": 4,
 "nbformat_minor": 2
}
