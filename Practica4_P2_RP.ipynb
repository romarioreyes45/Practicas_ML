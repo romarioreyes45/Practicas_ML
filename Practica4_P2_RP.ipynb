{
 "cells": [
  {
   "cell_type": "code",
   "execution_count": 27,
   "metadata": {},
   "outputs": [],
   "source": [
    "#Importar liberias\n",
    "import pandas as pd\n",
    "import numpy as np\n",
    "from sklearn.model_selection import train_test_split\n",
    "from sklearn.linear_model import LinearRegression\n",
    "from sklearn.preprocessing import PolynomialFeatures\n",
    "from sklearn.metrics import mean_squared_error, r2_score\n",
    "from sklearn.discriminant_analysis import StandardScaler\n",
    "from sklearn import preprocessing"
   ]
  },
  {
   "cell_type": "code",
   "execution_count": 28,
   "metadata": {},
   "outputs": [
    {
     "name": "stdout",
     "output_type": "stream",
     "text": [
      "       longitude  latitude  housingMedianAge  totalRooms  totalBedrooms  \\\n",
      "0        -122.23     37.88              41.0       880.0          129.0   \n",
      "1        -122.22     37.86              21.0      7099.0         1106.0   \n",
      "2        -122.24     37.85              52.0      1467.0          190.0   \n",
      "3        -122.25     37.85              52.0      1274.0          235.0   \n",
      "4        -122.25     37.85              52.0      1627.0          280.0   \n",
      "...          ...       ...               ...         ...            ...   \n",
      "20635    -121.09     39.48              25.0      1665.0          374.0   \n",
      "20636    -121.21     39.49              18.0       697.0          150.0   \n",
      "20637    -121.22     39.43              17.0      2254.0          485.0   \n",
      "20638    -121.32     39.43              18.0      1860.0          409.0   \n",
      "20639    -121.24     39.37              16.0      2785.0          616.0   \n",
      "\n",
      "       population  households  medianIncome  medianHouseValue  \n",
      "0           322.0       126.0        8.3252          452600.0  \n",
      "1          2401.0      1138.0        8.3014          358500.0  \n",
      "2           496.0       177.0        7.2574          352100.0  \n",
      "3           558.0       219.0        5.6431          341300.0  \n",
      "4           565.0       259.0        3.8462          342200.0  \n",
      "...           ...         ...           ...               ...  \n",
      "20635       845.0       330.0        1.5603           78100.0  \n",
      "20636       356.0       114.0        2.5568           77100.0  \n",
      "20637      1007.0       433.0        1.7000           92300.0  \n",
      "20638       741.0       349.0        1.8672           84700.0  \n",
      "20639      1387.0       530.0        2.3886           89400.0  \n",
      "\n",
      "[20640 rows x 9 columns]\n"
     ]
    }
   ],
   "source": [
    "#Visualizar dataset\n",
    "df = pd.read_csv('cal_housing.csv',sep=',')\n",
    "print(df)"
   ]
  },
  {
   "cell_type": "code",
   "execution_count": 29,
   "metadata": {},
   "outputs": [
    {
     "name": "stdout",
     "output_type": "stream",
     "text": [
      "Train_data:\n",
      "        longitude  latitude  housingMedianAge  totalRooms  totalBedrooms  \\\n",
      "12069    -117.55     33.83               6.0       502.0           76.0   \n",
      "15925    -122.44     37.73              52.0      2381.0          492.0   \n",
      "11162    -118.00     33.83              26.0      1718.0          385.0   \n",
      "4904     -118.26     34.01              38.0       697.0          208.0   \n",
      "4683     -118.36     34.08              52.0      2373.0          601.0   \n",
      "...          ...       ...               ...         ...            ...   \n",
      "13123    -121.26     38.27              20.0      1314.0          229.0   \n",
      "19648    -120.89     37.48              27.0      1118.0          195.0   \n",
      "9845     -121.90     36.58              31.0      1431.0          370.0   \n",
      "10799    -117.93     33.62              34.0      2125.0          498.0   \n",
      "2732     -115.56     32.80              15.0      1171.0          328.0   \n",
      "\n",
      "       population  households  medianIncome  medianHouseValue  \n",
      "12069       228.0        65.0        4.2386          500001.0  \n",
      "15925      1485.0       447.0        4.3898          270000.0  \n",
      "11162      1022.0       368.0        3.9333          196100.0  \n",
      "4904        749.0       206.0        1.4653          118800.0  \n",
      "4683       1135.0       576.0        3.1765          225000.0  \n",
      "...           ...         ...           ...               ...  \n",
      "13123       712.0       219.0        4.4125          144600.0  \n",
      "19648       647.0       209.0        2.9135          159400.0  \n",
      "9845        704.0       393.0        3.1977          289300.0  \n",
      "10799      1052.0       468.0        5.6315          484600.0  \n",
      "2732       1024.0       298.0        1.3882           69400.0  \n",
      "\n",
      "[16512 rows x 9 columns]\n",
      "Test_data:\n",
      "        longitude  latitude  housingMedianAge  totalRooms  totalBedrooms  \\\n",
      "14740    -117.05     32.58              22.0      2101.0          399.0   \n",
      "10101    -117.97     33.92              32.0      2620.0          398.0   \n",
      "20566    -121.84     38.65              29.0      3167.0          548.0   \n",
      "2670     -115.60     33.20              37.0       709.0          187.0   \n",
      "15709    -122.43     37.79              25.0      1637.0          394.0   \n",
      "...          ...       ...               ...         ...            ...   \n",
      "6655     -118.13     34.16              33.0      2682.0          716.0   \n",
      "3505     -118.45     34.25              36.0      1453.0          270.0   \n",
      "1919     -120.92     38.86              11.0      1720.0          345.0   \n",
      "1450     -121.95     37.96              18.0      2739.0          393.0   \n",
      "4148     -118.20     34.12              52.0      1580.0          426.0   \n",
      "\n",
      "       population  households  medianIncome  medianHouseValue  \n",
      "14740      1551.0       371.0        4.1518          136900.0  \n",
      "10101      1296.0       429.0        5.7796          241300.0  \n",
      "20566      1554.0       534.0        4.3487          200700.0  \n",
      "2670        390.0       142.0        2.4511           72500.0  \n",
      "15709       649.0       379.0        5.0049          460000.0  \n",
      "...           ...         ...           ...               ...  \n",
      "6655       2050.0       692.0        2.4817          169500.0  \n",
      "3505        808.0       275.0        4.3839          204600.0  \n",
      "1919        850.0       326.0        3.2027          128600.0  \n",
      "1450       1072.0       374.0        6.1436          259500.0  \n",
      "4148       1462.0       406.0        3.3326          167600.0  \n",
      "\n",
      "[4128 rows x 9 columns]\n"
     ]
    }
   ],
   "source": [
    "#División de los datos en entrenamiento y prueba 80% y 20% respectivamente\n",
    "train_data, test_data = train_test_split(df, test_size=0.2, shuffle=True, random_state=0)\n",
    "print('Train_data:\\n',train_data)\n",
    "print('Test_data:\\n',test_data)"
   ]
  },
  {
   "cell_type": "code",
   "execution_count": 30,
   "metadata": {},
   "outputs": [],
   "source": [
    "\n",
    "x_train = train_data.iloc[:,0:8]\n",
    "y_train = train_data.iloc[:,8]\n",
    "x_test = test_data.iloc[:,0:8]\n",
    "y_test = test_data.iloc[:,8]\n"
   ]
  },
  {
   "cell_type": "code",
   "execution_count": 31,
   "metadata": {},
   "outputs": [
    {
     "name": "stdout",
     "output_type": "stream",
     "text": [
      "Error cuadratico medio: 4853781771.947949\n",
      "Coeficiente de determinación: 0.6277645980446463\n"
     ]
    }
   ],
   "source": [
    "#Regresion lineal con OLS\n",
    "#Entrenamiento\n",
    "reg_1_OLS = LinearRegression()\n",
    "reg_1_OLS.fit(x_train, y_train)\n",
    "\n",
    "#Predicción\n",
    "y_pred_1_OLS = reg_1_OLS.predict(x_test)\n",
    "\n",
    "#Error cuadratico medio\n",
    "mse_1_OLS = mean_squared_error(y_test, y_pred_1_OLS)\n",
    "print('Error cuadratico medio:',mse_1_OLS)\n",
    "\n",
    "#Coeficiente de determinación\n",
    "r2_1_OLS = r2_score(y_test, y_pred_1_OLS)\n",
    "print('Coeficiente de determinación:',r2_1_OLS)\n"
   ]
  },
  {
   "cell_type": "code",
   "execution_count": 32,
   "metadata": {},
   "outputs": [
    {
     "name": "stdout",
     "output_type": "stream",
     "text": [
      "Error cuadratico medio: 4076152901.1390266\n",
      "Coeficiente de determinación: 0.6874007763686419\n"
     ]
    }
   ],
   "source": [
    "#Regresion polinomial de grado 2 con OLS\n",
    "#Entrenamiento\n",
    "reg_2_OLS = PolynomialFeatures(degree=2)\n",
    "x_train_2_OLS = reg_2_OLS.fit_transform(x_train)\n",
    "x_test_2_OLS = reg_2_OLS.transform(x_test)\n",
    "regre_2_OLS = LinearRegression()\n",
    "regre_2_OLS.fit(x_train_2_OLS, y_train)\n",
    "\n",
    "#Predicción\n",
    "y_pred_2_OLS = regre_2_OLS.predict(x_test_2_OLS)\n",
    "\n",
    "#Error cuadratico medio\n",
    "mse_2_OLS = mean_squared_error(y_test, y_pred_2_OLS)\n",
    "print('Error cuadratico medio:',mse_2_OLS)\n",
    "\n",
    "#Coeficiente de determinación\n",
    "r2_2_OLS = r2_score(y_test, y_pred_2_OLS)\n",
    "print('Coeficiente de determinación:',r2_2_OLS)"
   ]
  },
  {
   "cell_type": "code",
   "execution_count": 46,
   "metadata": {},
   "outputs": [
    {
     "name": "stdout",
     "output_type": "stream",
     "text": [
      "Error cuadratico medio: 4076152877.92068\n",
      "Coeficiente de determinación: 0.6874007781492516\n"
     ]
    }
   ],
   "source": [
    "#Regresion polinomial de grado 2 con OLS con escalamiento estandar\n",
    "#Entrenamiento\n",
    "scaler_stan = StandardScaler()\n",
    "scaler_stan.fit(x_train)\n",
    "x_train_scaled_stan = scaler_stan.transform(x_train)\n",
    "x_test_scaled_stan = scaler_stan.transform(x_test)\n",
    "reg_2_OLS_scaled_stan = PolynomialFeatures(degree=2)\n",
    "x_train_2_OLS_scaled = reg_2_OLS_scaled_stan.fit_transform(x_train_scaled_stan)\n",
    "x_test_2_OLS_scaled = reg_2_OLS_scaled_stan.transform(x_test_scaled_stan)\n",
    "\n",
    "regre_2_OLS_scaled_stan = LinearRegression()\n",
    "regre_2_OLS_scaled_stan.fit(x_train_2_OLS_scaled, y_train)\n",
    "\n",
    "#Predicción\n",
    "y_pred_2_OLS_scaled_stan = regre_2_OLS_scaled_stan.predict(x_test_2_OLS_scaled)\n",
    "\n",
    "#Error cuadratico medio\n",
    "mse_2_OLS_scaled = mean_squared_error(y_test, y_pred_2_OLS_scaled_stan)\n",
    "print('Error cuadratico medio:',mse_2_OLS_scaled)\n",
    "\n",
    "#Coeficiente de determinación\n",
    "r2_2_OLS_scaled = r2_score(y_test, y_pred_2_OLS_scaled_stan)\n",
    "print('Coeficiente de determinación:',r2_2_OLS_scaled)"
   ]
  },
  {
   "cell_type": "code",
   "execution_count": 41,
   "metadata": {},
   "outputs": [
    {
     "name": "stdout",
     "output_type": "stream",
     "text": [
      "Error cuadratico medio: 4076152877.92068\n",
      "Coeficiente de determinación: 0.6874007781492516\n"
     ]
    }
   ],
   "source": [
    "#Regresion polinomial de grado 2 con OLS con escalamiento robusto\n",
    "#Entrenamiento\n",
    "scaler_rob = preprocessing.RobustScaler(quantile_range=(25.0, 75.0))\n",
    "scaler_rob.fit(x_train)\n",
    "x_train_scaled_rob = scaler_rob.transform(x_train)\n",
    "x_test_scaled_rob = scaler_rob.transform(x_test)\n",
    "reg_2_OLS_scaled_rob = PolynomialFeatures(degree=2, include_bias=False)\n",
    "x_train_2_OLS_scaled_rob = reg_2_OLS_scaled_rob.fit_transform(x_train_scaled_rob)\n",
    "x_test_2_OLS_scaled_rob = reg_2_OLS_scaled_rob.transform(x_test_scaled_rob)\n",
    "\n",
    "regre_2_OLS_scaled_rob = LinearRegression()\n",
    "regre_2_OLS_scaled_rob.fit(x_train_2_OLS_scaled, y_train)\n",
    "\n",
    "#Predicción\n",
    "y_pred_2_OLS_scaled_rob = regre_2_OLS_scaled_rob.predict(x_test_2_OLS_scaled)\n",
    "\n",
    "#Error cuadratico medio\n",
    "mse_2_OLS_scaled_rob = mean_squared_error(y_test, y_pred_2_OLS_scaled_rob)\n",
    "print('Error cuadratico medio:',mse_2_OLS_scaled_rob)\n",
    "\n",
    "#Coeficiente de determinación\n",
    "r2_2_OLS_scaled_rob = r2_score(y_test, y_pred_2_OLS_scaled_rob)\n",
    "print('Coeficiente de determinación:',r2_2_OLS_scaled_rob)"
   ]
  },
  {
   "cell_type": "code",
   "execution_count": 47,
   "metadata": {},
   "outputs": [
    {
     "name": "stdout",
     "output_type": "stream",
     "text": [
      "Error cuadratico medio: 4124450054.325066\n",
      "Coeficiente de determinación: 0.6836968788565192\n"
     ]
    }
   ],
   "source": [
    "#Regresion polinomial de grado 3 con OLS\n",
    "#Entrenamiento\n",
    "reg_3_OLS = PolynomialFeatures(degree=3)\n",
    "x_train_3_OLS = reg_3_OLS.fit_transform(x_train)\n",
    "x_test_3_OLS = reg_3_OLS.transform(x_test)\n",
    "regre_3_OLS = LinearRegression()\n",
    "regre_3_OLS.fit(x_train_3_OLS, y_train)\n",
    "\n",
    "#Predicción\n",
    "y_pred_3_OLS = regre_3_OLS.predict(x_test_3_OLS)\n",
    "\n",
    "#Error cuadratico medio\n",
    "mse_3_OLS = mean_squared_error(y_test, y_pred_3_OLS)\n",
    "print('Error cuadratico medio:',mse_3_OLS)\n",
    "\n",
    "#Coeficiente de determinación\n",
    "r2_3_OLS = r2_score(y_test, y_pred_3_OLS)\n",
    "print('Coeficiente de determinación:',r2_3_OLS)"
   ]
  },
  {
   "cell_type": "code",
   "execution_count": 44,
   "metadata": {},
   "outputs": [
    {
     "name": "stdout",
     "output_type": "stream",
     "text": [
      "Error cuadratico medio: 4103523449.505518\n",
      "Coeficiente de determinación: 0.6853017353421538\n"
     ]
    }
   ],
   "source": [
    "#Regresion polinomial de grado 3 con OLS con escalamiento estandar\n",
    "#Entrenamiento\n",
    "scaler_stan = StandardScaler()\n",
    "scaler_stan.fit(x_train)\n",
    "x_train_scaled_stan = scaler_stan.transform(x_train)\n",
    "x_test_scaled_stan = scaler_stan.transform(x_test)\n",
    "reg_3_OLS_scaled_stan = PolynomialFeatures(degree=3)\n",
    "x_train_3_OLS_scaled = reg_3_OLS_scaled_stan.fit_transform(x_train_scaled_stan)\n",
    "x_test_3_OLS_scaled = reg_3_OLS_scaled_stan.transform(x_test_scaled_stan)\n",
    "\n",
    "regre_3_OLS_scaled_stan = LinearRegression()\n",
    "regre_3_OLS_scaled_stan.fit(x_train_3_OLS_scaled, y_train)\n",
    "\n",
    "#Predicción\n",
    "y_pred_3_OLS_scaled_stan = regre_3_OLS_scaled_stan.predict(x_test_3_OLS_scaled)\n",
    "\n",
    "#Error cuadratico medio\n",
    "mse_3_OLS_scaled = mean_squared_error(y_test, y_pred_3_OLS_scaled_stan)\n",
    "print('Error cuadratico medio:',mse_3_OLS_scaled)\n",
    "\n",
    "#Coeficiente de determinación\n",
    "r2_3_OLS_scaled = r2_score(y_test, y_pred_3_OLS_scaled_stan)\n",
    "print('Coeficiente de determinación:',r2_3_OLS_scaled)"
   ]
  },
  {
   "cell_type": "code",
   "execution_count": 45,
   "metadata": {},
   "outputs": [
    {
     "name": "stdout",
     "output_type": "stream",
     "text": [
      "Error cuadratico medio: 4103523449.505518\n",
      "Coeficiente de determinación: 0.6853017353421538\n"
     ]
    }
   ],
   "source": [
    "#Regresion polinomial de grado 3 con OLS con escalamiento robusto\n",
    "#Entrenamiento\n",
    "scaler_rob = preprocessing.RobustScaler(quantile_range=(25.0, 75.0))\n",
    "scaler_rob.fit(x_train)\n",
    "x_train_scaled_rob = scaler_rob.transform(x_train)\n",
    "x_test_scaled_rob = scaler_rob.transform(x_test)\n",
    "reg_3_OLS_scaled_rob = PolynomialFeatures(degree=3, include_bias=False)\n",
    "x_train_3_OLS_scaled_rob = reg_3_OLS_scaled_rob.fit_transform(x_train_scaled_rob)\n",
    "x_test_3_OLS_scaled_rob = reg_3_OLS_scaled_rob.transform(x_test_scaled_rob)\n",
    "regre_3_OLS_scaled_rob = LinearRegression()\n",
    "regre_3_OLS_scaled_rob.fit(x_train_3_OLS_scaled, y_train)\n",
    "\n",
    "#Predicción\n",
    "y_pred_3_OLS_scaled_rob = regre_3_OLS_scaled_rob.predict(x_test_3_OLS_scaled)\n",
    "\n",
    "#Error cuadratico medio\n",
    "mse_3_OLS_scaled_rob = mean_squared_error(y_test, y_pred_3_OLS_scaled_rob)\n",
    "print('Error cuadratico medio:',mse_3_OLS_scaled_rob)   \n",
    "\n",
    "#Coeficiente de determinación\n",
    "r2_3_OLS_scaled_rob = r2_score(y_test, y_pred_3_OLS_scaled_rob)\n",
    "print('Coeficiente de determinación:',r2_3_OLS_scaled_rob)"
   ]
  }
 ],
 "metadata": {
  "kernelspec": {
   "display_name": "Python 3",
   "language": "python",
   "name": "python3"
  },
  "language_info": {
   "codemirror_mode": {
    "name": "ipython",
    "version": 3
   },
   "file_extension": ".py",
   "mimetype": "text/x-python",
   "name": "python",
   "nbconvert_exporter": "python",
   "pygments_lexer": "ipython3",
   "version": "3.12.1"
  }
 },
 "nbformat": 4,
 "nbformat_minor": 2
}
